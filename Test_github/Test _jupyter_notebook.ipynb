{
 "cells": [
  {
   "cell_type": "markdown",
   "id": "a2e6257c-511f-4771-83d6-2c20927aff05",
   "metadata": {},
   "source": [
    "# Python ka chilla\n",
    "## How to use jupyter notebook\n",
    "### Basics of python"
   ]
  },
  {
   "cell_type": "markdown",
   "id": "bc306bd7-d673-48da-9067-e7fc13206f0e",
   "metadata": {},
   "source": [
    "### **1- Runing my first code (My first programe in jupyter)**"
   ]
  },
  {
   "cell_type": "code",
   "execution_count": 4,
   "id": "6d73d498-0788-4b53-b1b8-646b41976808",
   "metadata": {
    "scrolled": true
   },
   "outputs": [
    {
     "data": {
      "text/plain": [
       "5"
      ]
     },
     "execution_count": 4,
     "metadata": {},
     "output_type": "execute_result"
    }
   ],
   "source": [
    "a=2+3\n",
    "a"
   ]
  },
  {
   "cell_type": "code",
   "execution_count": 5,
   "id": "f35e36c8-530d-4ae5-b7fa-bbf2a99e5746",
   "metadata": {
    "scrolled": true
   },
   "outputs": [
    {
     "data": {
      "text/plain": [
       "5"
      ]
     },
     "execution_count": 5,
     "metadata": {},
     "output_type": "execute_result"
    }
   ],
   "source": [
    "a"
   ]
  },
  {
   "cell_type": "code",
   "execution_count": 6,
   "id": "5e573735-835b-4a50-8a11-cec6512b65de",
   "metadata": {
    "scrolled": true
   },
   "outputs": [
    {
     "data": {
      "text/plain": [
       "'learning python with aammar'"
      ]
     },
     "execution_count": 6,
     "metadata": {},
     "output_type": "execute_result"
    }
   ],
   "source": [
    "b=\"learning python with aammar\"\n",
    "b"
   ]
  },
  {
   "cell_type": "code",
   "execution_count": 7,
   "id": "2499a881-d75f-4012-bf18-ed6be2804dfc",
   "metadata": {
    "scrolled": true
   },
   "outputs": [
    {
     "name": "stdout",
     "output_type": "stream",
     "text": [
      "My name is Sayyed Hammad Ullah\n",
      "I am learning Python\n",
      "50\n"
     ]
    }
   ],
   "source": [
    "print(\"My name is Sayyed Hammad Ullah\")\n",
    "print(\"I am learning Python\")\n",
    "print(20+30)"
   ]
  },
  {
   "cell_type": "markdown",
   "id": "a025e199-3a54-45dd-9957-5f6dcf7e6cc2",
   "metadata": {},
   "source": [
    "### **2- Operators (My second program in jupyter)**"
   ]
  },
  {
   "cell_type": "code",
   "execution_count": 9,
   "id": "6dc0e2b3-9e1b-46bf-93a5-3e4c52f4d33c",
   "metadata": {},
   "outputs": [
    {
     "name": "stdout",
     "output_type": "stream",
     "text": [
      "5\n",
      "3.0\n",
      "3\n",
      "8\n",
      "10\n",
      "4\n",
      "29.0\n"
     ]
    }
   ],
   "source": [
    "print(2+3)\n",
    "print(6/2)\n",
    "print(6//2)\n",
    "print(2**3)\n",
    "print(2*5)\n",
    "print(6-2)\n",
    "\n",
    "print(2**3/2*3+4*5-3)"
   ]
  },
  {
   "cell_type": "markdown",
   "id": "ddf9e40d-e681-4717-87bb-7952eb6a1206",
   "metadata": {},
   "source": [
    "**PEDMAS** (parenthesis, exponents, multiply, divide, addition, substraction) : Left to Right sequence for M D & A S"
   ]
  },
  {
   "cell_type": "markdown",
   "id": "870304b1-8db8-42e4-90db-66515a4d7dbe",
   "metadata": {},
   "source": [
    "### **3- Strings (My 3rd  programe in jupyter)**"
   ]
  },
  {
   "cell_type": "code",
   "execution_count": 12,
   "id": "60dae820-ccf3-483e-89bf-57dd2c8a59fd",
   "metadata": {},
   "outputs": [
    {
     "name": "stdout",
     "output_type": "stream",
     "text": [
      "hello hammad\n",
      "i am learning python\n",
      "test for single quotes\n",
      "test for double quotes\n",
      "test for tripple quotes\n"
     ]
    }
   ],
   "source": [
    "print(\"hello hammad\")\n",
    "print(\"i am learning python\")\n",
    "print('test for single quotes')\n",
    "print(\"test for double quotes\")\n",
    "print('''test for tripple quotes''')"
   ]
  },
  {
   "cell_type": "markdown",
   "id": "8b1b2649-7e62-4d4c-b531-93be527ce48e",
   "metadata": {},
   "source": [
    "### **4- Comment out (My 4th proframe in jupyter)** : the shortcut key to comment out is **(ctrl+/)**"
   ]
  },
  {
   "cell_type": "code",
   "execution_count": 14,
   "id": "4d9d9d90-b16d-4cfd-ba2c-ba73e01f251b",
   "metadata": {},
   "outputs": [
    {
     "name": "stdout",
     "output_type": "stream",
     "text": [
      "i am learning python with aammar\n",
      "5\n",
      "i am learning python with aammar\n",
      "5\n"
     ]
    }
   ],
   "source": [
    "# print(\"how are you?\") press (ctrl+/) to comment out selected license\n",
    "print(\"i am learning python with aammar\")\n",
    "print(2+3)\n",
    "\n",
    "print(\"i am learning python with aammar\") #print a string\n",
    "print(2+3) #print operators function with numbers\n",
    "#so basically comment function is used to write comment in operators template wthout disturbing results in terminal output "
   ]
  },
  {
   "cell_type": "code",
   "execution_count": null,
   "id": "f2193fbb-685d-4059-86fa-8100c5c671cf",
   "metadata": {},
   "outputs": [],
   "source": []
  }
 ],
 "metadata": {
  "kernelspec": {
   "display_name": "Python 3 (ipykernel)",
   "language": "python",
   "name": "python3"
  },
  "language_info": {
   "codemirror_mode": {
    "name": "ipython",
    "version": 3
   },
   "file_extension": ".py",
   "mimetype": "text/x-python",
   "name": "python",
   "nbconvert_exporter": "python",
   "pygments_lexer": "ipython3",
   "version": "3.12.4"
  }
 },
 "nbformat": 4,
 "nbformat_minor": 5
}
